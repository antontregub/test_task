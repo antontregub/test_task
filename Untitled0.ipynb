{
  "nbformat": 4,
  "nbformat_minor": 0,
  "metadata": {
    "colab": {
      "name": "Untitled0.ipynb",
      "provenance": [],
      "collapsed_sections": [],
      "authorship_tag": "ABX9TyOkm2QdGN8I8mJspksTYfaV",
      "include_colab_link": true
    },
    "kernelspec": {
      "name": "python3",
      "display_name": "Python 3"
    }
  },
  "cells": [
    {
      "cell_type": "markdown",
      "metadata": {
        "id": "view-in-github",
        "colab_type": "text"
      },
      "source": [
        "<a href=\"https://colab.research.google.com/github/antontregub/test_task/blob/master/Untitled0.ipynb\" target=\"_parent\"><img src=\"https://colab.research.google.com/assets/colab-badge.svg\" alt=\"Open In Colab\"/></a>"
      ]
    },
    {
      "cell_type": "code",
      "metadata": {
        "id": "_KVCQxgJ3190"
      },
      "source": [
        "import pandas as pd\n",
        "import seaborn as sns\n",
        "import numpy as np\n",
        "import matplotlib.pyplot as plt"
      ],
      "execution_count": null,
      "outputs": []
    },
    {
      "cell_type": "code",
      "metadata": {
        "id": "zkmBny193-Iq"
      },
      "source": [
        "df = pd.read_csv('titanic.csv')\n",
        "#df = df.drop('fnlwgt',axis=1)\n",
        "df = df.replace('?', np.NaN)"
      ],
      "execution_count": null,
      "outputs": []
    },
    {
      "cell_type": "code",
      "metadata": {
        "colab": {
          "base_uri": "https://localhost:8080/",
          "height": 229
        },
        "id": "A9giLAcg4OnW",
        "outputId": "fc49b6e1-f6a4-4a96-831c-34c821fe0cd7"
      },
      "source": [
        "df.head(5)"
      ],
      "execution_count": null,
      "outputs": [
        {
          "output_type": "execute_result",
          "data": {
            "text/html": [
              "<div>\n",
              "<style scoped>\n",
              "    .dataframe tbody tr th:only-of-type {\n",
              "        vertical-align: middle;\n",
              "    }\n",
              "\n",
              "    .dataframe tbody tr th {\n",
              "        vertical-align: top;\n",
              "    }\n",
              "\n",
              "    .dataframe thead th {\n",
              "        text-align: right;\n",
              "    }\n",
              "</style>\n",
              "<table border=\"1\" class=\"dataframe\">\n",
              "  <thead>\n",
              "    <tr style=\"text-align: right;\">\n",
              "      <th></th>\n",
              "      <th>PassengerId</th>\n",
              "      <th>Survived</th>\n",
              "      <th>Pclass</th>\n",
              "      <th>Name</th>\n",
              "      <th>Sex</th>\n",
              "      <th>Age</th>\n",
              "      <th>SibSp</th>\n",
              "      <th>Parch</th>\n",
              "      <th>Ticket</th>\n",
              "      <th>Fare</th>\n",
              "      <th>Cabin</th>\n",
              "      <th>Embarked</th>\n",
              "    </tr>\n",
              "  </thead>\n",
              "  <tbody>\n",
              "    <tr>\n",
              "      <th>0</th>\n",
              "      <td>1</td>\n",
              "      <td>0</td>\n",
              "      <td>3</td>\n",
              "      <td>Braund, Mr. Owen Harris</td>\n",
              "      <td>male</td>\n",
              "      <td>22.0</td>\n",
              "      <td>1</td>\n",
              "      <td>0</td>\n",
              "      <td>A/5 21171</td>\n",
              "      <td>7.2500</td>\n",
              "      <td>NaN</td>\n",
              "      <td>S</td>\n",
              "    </tr>\n",
              "    <tr>\n",
              "      <th>1</th>\n",
              "      <td>2</td>\n",
              "      <td>1</td>\n",
              "      <td>1</td>\n",
              "      <td>Cumings, Mrs. John Bradley (Florence Briggs Th...</td>\n",
              "      <td>female</td>\n",
              "      <td>38.0</td>\n",
              "      <td>1</td>\n",
              "      <td>0</td>\n",
              "      <td>PC 17599</td>\n",
              "      <td>71.2833</td>\n",
              "      <td>C85</td>\n",
              "      <td>C</td>\n",
              "    </tr>\n",
              "    <tr>\n",
              "      <th>2</th>\n",
              "      <td>3</td>\n",
              "      <td>1</td>\n",
              "      <td>3</td>\n",
              "      <td>Heikkinen, Miss. Laina</td>\n",
              "      <td>female</td>\n",
              "      <td>26.0</td>\n",
              "      <td>0</td>\n",
              "      <td>0</td>\n",
              "      <td>STON/O2. 3101282</td>\n",
              "      <td>7.9250</td>\n",
              "      <td>NaN</td>\n",
              "      <td>S</td>\n",
              "    </tr>\n",
              "    <tr>\n",
              "      <th>3</th>\n",
              "      <td>4</td>\n",
              "      <td>1</td>\n",
              "      <td>1</td>\n",
              "      <td>Futrelle, Mrs. Jacques Heath (Lily May Peel)</td>\n",
              "      <td>female</td>\n",
              "      <td>35.0</td>\n",
              "      <td>1</td>\n",
              "      <td>0</td>\n",
              "      <td>113803</td>\n",
              "      <td>53.1000</td>\n",
              "      <td>C123</td>\n",
              "      <td>S</td>\n",
              "    </tr>\n",
              "    <tr>\n",
              "      <th>4</th>\n",
              "      <td>5</td>\n",
              "      <td>0</td>\n",
              "      <td>3</td>\n",
              "      <td>Allen, Mr. William Henry</td>\n",
              "      <td>male</td>\n",
              "      <td>35.0</td>\n",
              "      <td>0</td>\n",
              "      <td>0</td>\n",
              "      <td>373450</td>\n",
              "      <td>8.0500</td>\n",
              "      <td>NaN</td>\n",
              "      <td>S</td>\n",
              "    </tr>\n",
              "  </tbody>\n",
              "</table>\n",
              "</div>"
            ],
            "text/plain": [
              "   PassengerId  Survived  Pclass  ...     Fare Cabin  Embarked\n",
              "0            1         0       3  ...   7.2500   NaN         S\n",
              "1            2         1       1  ...  71.2833   C85         C\n",
              "2            3         1       3  ...   7.9250   NaN         S\n",
              "3            4         1       1  ...  53.1000  C123         S\n",
              "4            5         0       3  ...   8.0500   NaN         S\n",
              "\n",
              "[5 rows x 12 columns]"
            ]
          },
          "metadata": {
            "tags": []
          },
          "execution_count": 5
        }
      ]
    },
    {
      "cell_type": "code",
      "metadata": {
        "colab": {
          "base_uri": "https://localhost:8080/"
        },
        "id": "NzfExUlS4oQm",
        "outputId": "00b75bd1-6f4a-4e3e-d593-6847db6911c9"
      },
      "source": [
        "df.shape"
      ],
      "execution_count": null,
      "outputs": [
        {
          "output_type": "execute_result",
          "data": {
            "text/plain": [
              "(891, 12)"
            ]
          },
          "metadata": {
            "tags": []
          },
          "execution_count": 3
        }
      ]
    },
    {
      "cell_type": "markdown",
      "metadata": {
        "id": "itPveSwi5KAK"
      },
      "source": [
        "Task 2"
      ]
    },
    {
      "cell_type": "code",
      "metadata": {
        "colab": {
          "base_uri": "https://localhost:8080/"
        },
        "id": "p0CCPq_t42TM",
        "outputId": "f81ef454-64fe-401b-e62b-db01c3de0571"
      },
      "source": [
        "df.isna().sum()"
      ],
      "execution_count": null,
      "outputs": [
        {
          "output_type": "execute_result",
          "data": {
            "text/plain": [
              "PassengerId      0\n",
              "Survived         0\n",
              "Pclass           0\n",
              "Name             0\n",
              "Sex              0\n",
              "Age            177\n",
              "SibSp            0\n",
              "Parch            0\n",
              "Ticket           0\n",
              "Fare             0\n",
              "Cabin          687\n",
              "Embarked         2\n",
              "dtype: int64"
            ]
          },
          "metadata": {
            "tags": []
          },
          "execution_count": 4
        }
      ]
    },
    {
      "cell_type": "code",
      "metadata": {
        "id": "wO2dwv6H43EB"
      },
      "source": [
        "df = df.dropna()"
      ],
      "execution_count": null,
      "outputs": []
    },
    {
      "cell_type": "code",
      "metadata": {
        "colab": {
          "base_uri": "https://localhost:8080/"
        },
        "id": "YssYZAhdbIzm",
        "outputId": "49f3fe47-b3ed-4930-9a0b-5ec1f090dc62"
      },
      "source": [
        "df.isna().sum()"
      ],
      "execution_count": null,
      "outputs": [
        {
          "output_type": "execute_result",
          "data": {
            "text/plain": [
              "PassengerId    0\n",
              "Survived       0\n",
              "Pclass         0\n",
              "Name           0\n",
              "Sex            0\n",
              "Age            0\n",
              "SibSp          0\n",
              "Parch          0\n",
              "Ticket         0\n",
              "Fare           0\n",
              "Cabin          0\n",
              "Embarked       0\n",
              "dtype: int64"
            ]
          },
          "metadata": {
            "tags": []
          },
          "execution_count": 6
        }
      ]
    },
    {
      "cell_type": "code",
      "metadata": {
        "id": "KmkwGAPuggTD"
      },
      "source": [
        "df['workcPassengerIdlass'] = pd.Categorical(df['PassengerId'])\r\n",
        "df['Survived'] = pd.Categorical(df['Survived'])\r\n",
        "df['Pclass'] = pd.Categorical(df['Pclass'])\r\n",
        "df['Name'] = pd.Categorical(df['Name'])\r\n",
        "df['Sex'] = pd.Categorical(df['Sex'])\r\n",
        "df['Age'] = pd.Categorical(df['Age'])\r\n",
        "df['SibSp'] = pd.Categorical(df['SibSp'])\r\n",
        "df['Parch'] = pd.Categorical(df['Parch'])\r\n",
        "df['Ticket'] = pd.Categorical(df['Ticket'])\r\n",
        "df['Fare'] = pd.Categorical(df['Fare'])\r\n",
        "df['Cabin'] = pd.Categorical(df['Cabin'])\r\n",
        "df['Embarked'] = pd.Categorical(df['Embarked'])"
      ],
      "execution_count": null,
      "outputs": []
    },
    {
      "cell_type": "markdown",
      "metadata": {
        "id": "r3CnMemR5EC-"
      },
      "source": [
        "Task 3"
      ]
    },
    {
      "cell_type": "code",
      "metadata": {
        "id": "8ddRYt3Y46vD"
      },
      "source": [
        "df_for_viz = df.copy()\n",
        "for column in df_for_viz.select_dtypes(include='category').columns:\n",
        "    df_for_viz[column] = df_for_viz[column].cat.codes"
      ],
      "execution_count": null,
      "outputs": []
    },
    {
      "cell_type": "markdown",
      "metadata": {
        "id": "k3pF9FUlb6sJ"
      },
      "source": [
        "All-vs-All correlation"
      ]
    },
    {
      "cell_type": "code",
      "metadata": {
        "colab": {
          "base_uri": "https://localhost:8080/",
          "height": 504
        },
        "id": "MUutKbSK4-3r",
        "outputId": "68536185-67dd-47bc-93d2-7decd99c32aa"
      },
      "source": [
        "plt.figure(figsize=(10,8))\n",
        "sns.heatmap(df_for_viz.corr())"
      ],
      "execution_count": null,
      "outputs": [
        {
          "output_type": "execute_result",
          "data": {
            "text/plain": [
              "<matplotlib.axes._subplots.AxesSubplot at 0x7f7efda0feb8>"
            ]
          },
          "metadata": {
            "tags": []
          },
          "execution_count": 8
        },
        {
          "output_type": "display_data",
          "data": {
            "image/png": "[encoded data removed]",
            "text/plain": [
              "<Figure size 720x576 with 2 Axes>"
            ]
          },
          "metadata": {
            "tags": [],
            "needs_background": "light"
          }
        }
      ]
    },
    {
      "cell_type": "markdown",
      "metadata": {
        "id": "b2kq10aNcB0m"
      },
      "source": [
        "\r\n",
        "\r\n",
        "```\r\n",
        "# Distribution plots\r\n",
        "```\r\n",
        "\r\n"
      ]
    },
    {
      "cell_type": "code",
      "metadata": {
        "colab": {
          "base_uri": "https://localhost:8080/",
          "height": 1000
        },
        "id": "8iVhlpiQ4_ne",
        "outputId": "385d2386-c2bf-461c-9688-fd547810d00a"
      },
      "source": [
        "fig, axes = plt.subplots(nrows=14, ncols=1,figsize=(20,100))\n",
        "fig.tight_layout(pad=10.0)\n",
        "ax_iter = iter(axes.flat)\n",
        "for column in df.columns:\n",
        "    ax = next(ax_iter)\n",
        "    if column in ('occupation', 'native-country'):\n",
        "        ax.tick_params(labelrotation=90)\n",
        "    a = sns.histplot(df[column],ax=ax)"
      ],
      "execution_count": null,
      "outputs": [
        {
          "output_type": "display_data",
          "data": {
            "image/png": "[encoded data removed]",
            "text/plain": [
              "<Figure size 1440x7200 with 14 Axes>"
            ]
          },
          "metadata": {
            "tags": [],
            "needs_background": "light"
          }
        }
      ]
    },
    {
      "cell_type": "markdown",
      "metadata": {
        "id": "FWHq92HicLU0"
      },
      "source": [
        "Boxplots conditioned on label"
      ]
    },
    {
      "cell_type": "code",
      "metadata": {
        "colab": {
          "base_uri": "https://localhost:8080/",
          "height": 1000
        },
        "id": "EAakJJu-cbVJ",
        "outputId": "5ed1df4a-572c-48d6-decf-a045983df55e"
      },
      "source": [
        "fig, axes = plt.subplots(nrows=3, ncols=1,figsize=(12,20))\r\n",
        "ax_iter = iter(axes.flat)\r\n",
        "for column in ['Age', 'Pclass', 'Fare']:\r\n",
        "    ax = next(ax_iter)\r\n",
        "    a = sns.boxplot(x='Embarked', y=column, data=df,ax=ax)"
      ],
      "execution_count": null,
      "outputs": [
        {
          "output_type": "display_data",
          "data": {
            "image/png": "[encoded data removed]",
            "text/plain": [
              "<Figure size 864x1440 with 3 Axes>"
            ]
          },
          "metadata": {
            "tags": [],
            "needs_background": "light"
          }
        }
      ]
    },
    {
      "cell_type": "code",
      "metadata": {
        "id": "K8fthcUq516h"
      },
      "source": [
        "from sklearn.model_selection import train_test_split, GridSearchCV\n",
        "from sklearn.preprocessing import StandardScaler\n",
        "from sklearn.metrics import f1_score, classification_report, confusion_matrix\n",
        "\n",
        "from sklearn.neighbors import KNeighborsClassifier\n",
        "from sklearn.tree import DecisionTreeClassifier, export_graphviz\n",
        "from sklearn.svm import SVC\n",
        "from sklearn.ensemble import RandomForestClassifier, AdaBoostClassifier, GradientBoostingClassifier"
      ],
      "execution_count": null,
      "outputs": []
    },
    {
      "cell_type": "markdown",
      "metadata": {
        "id": "unsXPu7fdwSj"
      },
      "source": [
        "One-Hot encoding"
      ]
    },
    {
      "cell_type": "code",
      "metadata": {
        "id": "1JS1ARBQ56rp"
      },
      "source": [
        "for column in df.select_dtypes(include='category').columns:\n",
        "    if column=='Embarked':\n",
        "        continue\n",
        "    df = pd.concat([df, pd.get_dummies(df[column], prefix=column)],axis=1)\n",
        "    df.drop([column],axis=1, inplace=True)"
      ],
      "execution_count": null,
      "outputs": []
    },
    {
      "cell_type": "code",
      "metadata": {
        "id": "9YNx9ZxKd25n"
      },
      "source": [
        "X_train, X_test, y_train, y_test = train_test_split(df.drop('Embarked',axis=1), df['Embarked'].cat.codes, test_size=0.2, random_state=42)"
      ],
      "execution_count": null,
      "outputs": []
    },
    {
      "cell_type": "markdown",
      "metadata": {
        "id": "ro95NYVGd-8y"
      },
      "source": [
        "Numerical features scaling"
      ]
    },
    {
      "cell_type": "code",
      "metadata": {
        "id": "xYetnl1056va"
      },
      "source": [
        "for column in df.select_dtypes(include='int64').columns:\n",
        "    scale = StandardScaler().fit(X_train[[column]])\n",
        "    X_train[[column]] = scale.transform(X_train[[column]])\n",
        "    X_test[[column]] = scale.transform(X_test[[column]])"
      ],
      "execution_count": null,
      "outputs": []
    },
    {
      "cell_type": "markdown",
      "metadata": {
        "id": "0hi6euobeI2q"
      },
      "source": [
        "KNN"
      ]
    },
    {
      "cell_type": "code",
      "metadata": {
        "id": "reJHqoQg56zS",
        "colab": {
          "base_uri": "https://localhost:8080/"
        },
        "outputId": "87a6fd27-ce50-48cf-f425-c1e9aa3b2c0b"
      },
      "source": [
        "n_neighbors = list(range(10,15))\r\n",
        "hyperparameters = dict(n_neighbors=n_neighbors)\r\n",
        "knn = KNeighborsClassifier()\r\n",
        "clf = GridSearchCV(knn, hyperparameters, cv=3, n_jobs=-1, verbose=10)\r\n",
        "best_model = clf.fit(X_train,y_train)\r\n",
        "print('Best n_neighbors:', best_model.best_estimator_.get_params()['n_neighbors'])"
      ],
      "execution_count": null,
      "outputs": [
        {
          "output_type": "stream",
          "text": [
            "Fitting 3 folds for each of 5 candidates, totalling 15 fits\n"
          ],
          "name": "stdout"
        },
        {
          "output_type": "stream",
          "text": [
            "/usr/local/lib/python3.6/dist-packages/sklearn/model_selection/_split.py:667: UserWarning: The least populated class in y has only 2 members, which is less than n_splits=3.\n",
            "  % (min_groups, self.n_splits)), UserWarning)\n",
            "[Parallel(n_jobs=-1)]: Using backend LokyBackend with 2 concurrent workers.\n",
            "[Parallel(n_jobs=-1)]: Done   1 tasks      | elapsed:    1.2s\n",
            "[Parallel(n_jobs=-1)]: Done   4 tasks      | elapsed:    1.3s\n",
            "[Parallel(n_jobs=-1)]: Done   9 tasks      | elapsed:    1.4s\n"
          ],
          "name": "stderr"
        },
        {
          "output_type": "stream",
          "text": [
            "Best n_neighbors: 10\n"
          ],
          "name": "stdout"
        },
        {
          "output_type": "stream",
          "text": [
            "[Parallel(n_jobs=-1)]: Done  15 out of  15 | elapsed:    1.5s finished\n"
          ],
          "name": "stderr"
        }
      ]
    },
    {
      "cell_type": "code",
      "metadata": {
        "id": "TZcbqeiseSwx"
      },
      "source": [
        "knn = KNeighborsClassifier(n_neighbors=12)\r\n",
        "knn.fit(X_train,y_train)\r\n",
        "y_pred = knn.predict(X_test)"
      ],
      "execution_count": null,
      "outputs": []
    },
    {
      "cell_type": "code",
      "metadata": {
        "colab": {
          "base_uri": "https://localhost:8080/"
        },
        "id": "nPiTiSigeS41",
        "outputId": "d4c32d0d-f9ea-423f-bef9-a727b708b7f4"
      },
      "source": [
        "knn.score(X_test, y_test)"
      ],
      "execution_count": null,
      "outputs": [
        {
          "output_type": "execute_result",
          "data": {
            "text/plain": [
              "0.5945945945945946"
            ]
          },
          "metadata": {
            "tags": []
          },
          "execution_count": 64
        }
      ]
    },
    {
      "cell_type": "code",
      "metadata": {
        "colab": {
          "base_uri": "https://localhost:8080/"
        },
        "id": "RKZukpuMeYzg",
        "outputId": "2ceee514-7b17-4d1e-c3fd-170a330a94a4"
      },
      "source": [
        "f1_score(y_test, y_pred, average='weighted')"
      ],
      "execution_count": null,
      "outputs": [
        {
          "output_type": "execute_result",
          "data": {
            "text/plain": [
              "0.5658424381828637"
            ]
          },
          "metadata": {
            "tags": []
          },
          "execution_count": 71
        }
      ]
    },
    {
      "cell_type": "markdown",
      "metadata": {
        "id": "W2Xe26NGeZfi"
      },
      "source": [
        "Decision Tree"
      ]
    },
    {
      "cell_type": "code",
      "metadata": {
        "colab": {
          "base_uri": "https://localhost:8080/"
        },
        "id": "XyZQf2baeb7b",
        "outputId": "d416791e-4b45-472d-c250-2221c8d30b7c"
      },
      "source": [
        "max_depth = [None,5,10,15]\r\n",
        "hyperparameters = dict(max_depth=max_depth)\r\n",
        "dtc = DecisionTreeClassifier()\r\n",
        "clf = GridSearchCV(dtc, hyperparameters, cv=3, n_jobs=-1, verbose=10)\r\n",
        "best_model = clf.fit(X_train,y_train)\r\n",
        "print('Best max_depth:', best_model.best_estimator_.get_params()['max_depth'])"
      ],
      "execution_count": null,
      "outputs": [
        {
          "output_type": "stream",
          "text": [
            "Fitting 3 folds for each of 4 candidates, totalling 12 fits\n",
            "Best max_depth: None\n"
          ],
          "name": "stdout"
        },
        {
          "output_type": "stream",
          "text": [
            "/usr/local/lib/python3.6/dist-packages/sklearn/model_selection/_split.py:667: UserWarning: The least populated class in y has only 2 members, which is less than n_splits=3.\n",
            "  % (min_groups, self.n_splits)), UserWarning)\n",
            "[Parallel(n_jobs=-1)]: Using backend LokyBackend with 2 concurrent workers.\n",
            "[Parallel(n_jobs=-1)]: Done   1 tasks      | elapsed:    0.0s\n",
            "[Parallel(n_jobs=-1)]: Batch computation too fast (0.0234s.) Setting batch_size=2.\n",
            "[Parallel(n_jobs=-1)]: Done   4 tasks      | elapsed:    0.1s\n",
            "[Parallel(n_jobs=-1)]: Batch computation too fast (0.0528s.) Setting batch_size=4.\n",
            "[Parallel(n_jobs=-1)]: Done  12 out of  12 | elapsed:    0.1s finished\n"
          ],
          "name": "stderr"
        }
      ]
    },
    {
      "cell_type": "code",
      "metadata": {
        "colab": {
          "base_uri": "https://localhost:8080/"
        },
        "id": "rm4TpzzyekKv",
        "outputId": "5d1cd076-3007-4ddd-b0d4-7a87aaf59486"
      },
      "source": [
        "dtc = DecisionTreeClassifier(max_depth=10)\r\n",
        "dtc.fit(X_train,y_train)\r\n",
        "y_pred = dtc.predict(X_test)\r\n",
        "print('Score:', dtc.score(X_test, y_test))\r\n",
        "print(f1_score(y_test, y_pred, average='weighted'))"
      ],
      "execution_count": null,
      "outputs": [
        {
          "output_type": "stream",
          "text": [
            "Score: 0.5405405405405406\n",
            "0.4910314396028682\n"
          ],
          "name": "stdout"
        }
      ]
    },
    {
      "cell_type": "code",
      "metadata": {
        "colab": {
          "base_uri": "https://localhost:8080/",
          "height": 370
        },
        "id": "-3bBN80lemT2",
        "outputId": "23a2d8f1-6739-4e13-cfbf-d8a160640c02"
      },
      "source": [
        "import graphviz\r\n",
        "dot_data = export_graphviz(dtc, out_file=None, \r\n",
        "                                feature_names=X_train.columns,  \r\n",
        "                                class_names=['Embarked=S','Embarked>50K'],\r\n",
        "                                filled=True)\r\n",
        "graph = graphviz.Source(dot_data, format=\"png\") \r\n",
        "graph"
      ],
      "execution_count": null,
      "outputs": [
        {
          "output_type": "error",
          "ename": "IndexError",
          "evalue": "ignored",
          "traceback": [
            "\u001b[0;31m---------------------------------------------------------------------------\u001b[0m",
            "\u001b[0;31mIndexError\u001b[0m                                Traceback (most recent call last)",
            "\u001b[0;32m<ipython-input-74-76305dd04f57>\u001b[0m in \u001b[0;36m<module>\u001b[0;34m()\u001b[0m\n\u001b[1;32m      3\u001b[0m                                 \u001b[0mfeature_names\u001b[0m\u001b[0;34m=\u001b[0m\u001b[0mX_train\u001b[0m\u001b[0;34m.\u001b[0m\u001b[0mcolumns\u001b[0m\u001b[0;34m,\u001b[0m\u001b[0;34m\u001b[0m\u001b[0;34m\u001b[0m\u001b[0m\n\u001b[1;32m      4\u001b[0m                                 \u001b[0mclass_names\u001b[0m\u001b[0;34m=\u001b[0m\u001b[0;34m[\u001b[0m\u001b[0;34m'Embarked=S'\u001b[0m\u001b[0;34m,\u001b[0m\u001b[0;34m'Embarked=C'\u001b[0m\u001b[0;34m]\u001b[0m\u001b[0;34m,\u001b[0m\u001b[0;34m\u001b[0m\u001b[0;34m\u001b[0m\u001b[0m\n\u001b[0;32m----> 5\u001b[0;31m                                 filled=True)\n\u001b[0m\u001b[1;32m      6\u001b[0m \u001b[0mgraph\u001b[0m \u001b[0;34m=\u001b[0m \u001b[0mgraphviz\u001b[0m\u001b[0;34m.\u001b[0m\u001b[0mSource\u001b[0m\u001b[0;34m(\u001b[0m\u001b[0mdot_data\u001b[0m\u001b[0;34m,\u001b[0m \u001b[0mformat\u001b[0m\u001b[0;34m=\u001b[0m\u001b[0;34m\"png\"\u001b[0m\u001b[0;34m)\u001b[0m\u001b[0;34m\u001b[0m\u001b[0;34m\u001b[0m\u001b[0m\n\u001b[1;32m      7\u001b[0m \u001b[0mgraph\u001b[0m\u001b[0;34m\u001b[0m\u001b[0;34m\u001b[0m\u001b[0m\n",
            "\u001b[0;32m/usr/local/lib/python3.6/dist-packages/sklearn/tree/_export.py\u001b[0m in \u001b[0;36mexport_graphviz\u001b[0;34m(decision_tree, out_file, max_depth, feature_names, class_names, label, filled, leaves_parallel, impurity, node_ids, proportion, rotate, rounded, special_characters, precision)\u001b[0m\n\u001b[1;32m    762\u001b[0m             \u001b[0mrounded\u001b[0m\u001b[0;34m=\u001b[0m\u001b[0mrounded\u001b[0m\u001b[0;34m,\u001b[0m \u001b[0mspecial_characters\u001b[0m\u001b[0;34m=\u001b[0m\u001b[0mspecial_characters\u001b[0m\u001b[0;34m,\u001b[0m\u001b[0;34m\u001b[0m\u001b[0;34m\u001b[0m\u001b[0m\n\u001b[1;32m    763\u001b[0m             precision=precision)\n\u001b[0;32m--> 764\u001b[0;31m         \u001b[0mexporter\u001b[0m\u001b[0;34m.\u001b[0m\u001b[0mexport\u001b[0m\u001b[0;34m(\u001b[0m\u001b[0mdecision_tree\u001b[0m\u001b[0;34m)\u001b[0m\u001b[0;34m\u001b[0m\u001b[0;34m\u001b[0m\u001b[0m\n\u001b[0m\u001b[1;32m    765\u001b[0m \u001b[0;34m\u001b[0m\u001b[0m\n\u001b[1;32m    766\u001b[0m         \u001b[0;32mif\u001b[0m \u001b[0mreturn_string\u001b[0m\u001b[0;34m:\u001b[0m\u001b[0;34m\u001b[0m\u001b[0;34m\u001b[0m\u001b[0m\n",
            "\u001b[0;32m/usr/local/lib/python3.6/dist-packages/sklearn/tree/_export.py\u001b[0m in \u001b[0;36mexport\u001b[0;34m(self, decision_tree)\u001b[0m\n\u001b[1;32m    405\u001b[0m         \u001b[0;32melse\u001b[0m\u001b[0;34m:\u001b[0m\u001b[0;34m\u001b[0m\u001b[0;34m\u001b[0m\u001b[0m\n\u001b[1;32m    406\u001b[0m             self.recurse(decision_tree.tree_, 0,\n\u001b[0;32m--> 407\u001b[0;31m                          criterion=decision_tree.criterion)\n\u001b[0m\u001b[1;32m    408\u001b[0m \u001b[0;34m\u001b[0m\u001b[0m\n\u001b[1;32m    409\u001b[0m         \u001b[0mself\u001b[0m\u001b[0;34m.\u001b[0m\u001b[0mtail\u001b[0m\u001b[0;34m(\u001b[0m\u001b[0;34m)\u001b[0m\u001b[0;34m\u001b[0m\u001b[0;34m\u001b[0m\u001b[0m\n",
            "\u001b[0;32m/usr/local/lib/python3.6/dist-packages/sklearn/tree/_export.py\u001b[0m in \u001b[0;36mrecurse\u001b[0;34m(self, tree, node_id, criterion, parent, depth)\u001b[0m\n\u001b[1;32m    465\u001b[0m             self.out_file.write(\n\u001b[1;32m    466\u001b[0m                 '%d [label=%s' % (node_id, self.node_to_str(tree, node_id,\n\u001b[0;32m--> 467\u001b[0;31m                                                             criterion)))\n\u001b[0m\u001b[1;32m    468\u001b[0m \u001b[0;34m\u001b[0m\u001b[0m\n\u001b[1;32m    469\u001b[0m             \u001b[0;32mif\u001b[0m \u001b[0mself\u001b[0m\u001b[0;34m.\u001b[0m\u001b[0mfilled\u001b[0m\u001b[0;34m:\u001b[0m\u001b[0;34m\u001b[0m\u001b[0;34m\u001b[0m\u001b[0m\n",
            "\u001b[0;32m/usr/local/lib/python3.6/dist-packages/sklearn/tree/_export.py\u001b[0m in \u001b[0;36mnode_to_str\u001b[0;34m(self, tree, node_id, criterion)\u001b[0m\n\u001b[1;32m    335\u001b[0m                 \u001b[0mnode_string\u001b[0m \u001b[0;34m+=\u001b[0m \u001b[0;34m'class = '\u001b[0m\u001b[0;34m\u001b[0m\u001b[0;34m\u001b[0m\u001b[0m\n\u001b[1;32m    336\u001b[0m             \u001b[0;32mif\u001b[0m \u001b[0mself\u001b[0m\u001b[0;34m.\u001b[0m\u001b[0mclass_names\u001b[0m \u001b[0;32mis\u001b[0m \u001b[0;32mnot\u001b[0m \u001b[0;32mTrue\u001b[0m\u001b[0;34m:\u001b[0m\u001b[0;34m\u001b[0m\u001b[0;34m\u001b[0m\u001b[0m\n\u001b[0;32m--> 337\u001b[0;31m                 \u001b[0mclass_name\u001b[0m \u001b[0;34m=\u001b[0m \u001b[0mself\u001b[0m\u001b[0;34m.\u001b[0m\u001b[0mclass_names\u001b[0m\u001b[0;34m[\u001b[0m\u001b[0mnp\u001b[0m\u001b[0;34m.\u001b[0m\u001b[0margmax\u001b[0m\u001b[0;34m(\u001b[0m\u001b[0mvalue\u001b[0m\u001b[0;34m)\u001b[0m\u001b[0;34m]\u001b[0m\u001b[0;34m\u001b[0m\u001b[0;34m\u001b[0m\u001b[0m\n\u001b[0m\u001b[1;32m    338\u001b[0m             \u001b[0;32melse\u001b[0m\u001b[0;34m:\u001b[0m\u001b[0;34m\u001b[0m\u001b[0;34m\u001b[0m\u001b[0m\n\u001b[1;32m    339\u001b[0m                 class_name = \"y%s%s%s\" % (characters[1],\n",
            "\u001b[0;31mIndexError\u001b[0m: list index out of range"
          ]
        }
      ]
    },
    {
      "cell_type": "markdown",
      "metadata": {
        "id": "HOZ6BpWtem7s"
      },
      "source": [
        "SVM"
      ]
    },
    {
      "cell_type": "code",
      "metadata": {
        "colab": {
          "base_uri": "https://localhost:8080/"
        },
        "id": "JSFOsjEUeozl",
        "outputId": "b1c6b5db-d756-4d58-9426-f104cdd189ce"
      },
      "source": [
        "c = [0.1, 1, 2]\r\n",
        "gamma = [0.1, 0.5]\r\n",
        "kernel = ['rbf']\r\n",
        "hyperparameters = dict(C=c, gamma=gamma, kernel=kernel)\r\n",
        "svc = SVC()\r\n",
        "clf = GridSearchCV(svc, hyperparameters, cv=2, n_jobs=-1, verbose=10)\r\n",
        "best_model = clf.fit(X_train,y_train)\r\n",
        "print('Best C:', best_model.best_estimator_.get_params()['C'])\r\n",
        "print('Best gamma:', best_model.best_estimator_.get_params()['gamma'])\r\n",
        "print('Best kernel:', best_model.best_estimator_.get_params()['kernel'])"
      ],
      "execution_count": null,
      "outputs": [
        {
          "output_type": "stream",
          "text": [
            "Fitting 2 folds for each of 6 candidates, totalling 12 fits\n"
          ],
          "name": "stdout"
        },
        {
          "output_type": "stream",
          "text": [
            "[Parallel(n_jobs=-1)]: Using backend LokyBackend with 2 concurrent workers.\n",
            "[Parallel(n_jobs=-1)]: Done   1 tasks      | elapsed:    1.3s\n",
            "[Parallel(n_jobs=-1)]: Done   4 tasks      | elapsed:    1.4s\n"
          ],
          "name": "stderr"
        },
        {
          "output_type": "stream",
          "text": [
            "Best C: 2\n",
            "Best gamma: 0.1\n",
            "Best kernel: rbf\n"
          ],
          "name": "stdout"
        },
        {
          "output_type": "stream",
          "text": [
            "[Parallel(n_jobs=-1)]: Done   9 tasks      | elapsed:    1.5s\n",
            "[Parallel(n_jobs=-1)]: Done  12 out of  12 | elapsed:    1.6s finished\n"
          ],
          "name": "stderr"
        }
      ]
    },
    {
      "cell_type": "code",
      "metadata": {
        "id": "03O14H1yeo2m"
      },
      "source": [
        "svc = SVC(C=2, kernel='rbf', gamma=0.1)\r\n",
        "svc.fit(X_train,y_train)\r\n",
        "y_pred = svc.predict(X_test)"
      ],
      "execution_count": null,
      "outputs": []
    },
    {
      "cell_type": "code",
      "metadata": {
        "colab": {
          "base_uri": "https://localhost:8080/"
        },
        "id": "xQx5Ms23ex4z",
        "outputId": "adc065ea-56ec-4118-bc08-edbb21ab4a2e"
      },
      "source": [
        "svc.score(X_test, y_test)"
      ],
      "execution_count": null,
      "outputs": [
        {
          "output_type": "execute_result",
          "data": {
            "text/plain": [
              "0.6216216216216216"
            ]
          },
          "metadata": {
            "tags": []
          },
          "execution_count": 77
        }
      ]
    },
    {
      "cell_type": "code",
      "metadata": {
        "colab": {
          "base_uri": "https://localhost:8080/"
        },
        "id": "NOH-HRDUex8G",
        "outputId": "1359f049-42c5-433a-80f2-c04c2717c7eb"
      },
      "source": [
        "f1_score(y_test, y_pred, average='weighted')"
      ],
      "execution_count": null,
      "outputs": [
        {
          "output_type": "execute_result",
          "data": {
            "text/plain": [
              "0.5521640521640523"
            ]
          },
          "metadata": {
            "tags": []
          },
          "execution_count": 79
        }
      ]
    },
    {
      "cell_type": "markdown",
      "metadata": {
        "id": "8BaBrH-LfgdH"
      },
      "source": [
        "Random Forest"
      ]
    },
    {
      "cell_type": "code",
      "metadata": {
        "colab": {
          "base_uri": "https://localhost:8080/"
        },
        "id": "ZSy8xNT4ex-3",
        "outputId": "cd216da3-8354-4b58-f6e8-a80c81a88782"
      },
      "source": [
        "n_estimators = [5, 10, 100, 200, 500]\r\n",
        "max_depth = [None, 5, 10,15,20,25]\r\n",
        "min_samples_split = [0.1,0.25,0.5,1,2]\r\n",
        "hyperparameters = dict(n_estimators=n_estimators, max_depth=max_depth, min_samples_split=min_samples_split)\r\n",
        "rfc = RandomForestClassifier()\r\n",
        "clf = GridSearchCV(rfc, hyperparameters, cv=2, n_jobs=-1, verbose=10)\r\n",
        "best_model = clf.fit(X_train,y_train)\r\n",
        "print('Best n_estimators:', best_model.best_estimator_.get_params()['n_estimators'])\r\n",
        "print('Best max_depth:', best_model.best_estimator_.get_params()['max_depth'])\r\n",
        "print('Best min_samples_split:', best_model.best_estimator_.get_params()['min_samples_split'])"
      ],
      "execution_count": null,
      "outputs": [
        {
          "output_type": "stream",
          "text": [
            "Fitting 2 folds for each of 150 candidates, totalling 300 fits\n"
          ],
          "name": "stdout"
        },
        {
          "output_type": "stream",
          "text": [
            "[Parallel(n_jobs=-1)]: Using backend LokyBackend with 2 concurrent workers.\n",
            "[Parallel(n_jobs=-1)]: Done   1 tasks      | elapsed:    0.1s\n",
            "[Parallel(n_jobs=-1)]: Batch computation too fast (0.0677s.) Setting batch_size=2.\n",
            "[Parallel(n_jobs=-1)]: Done   4 tasks      | elapsed:    0.1s\n",
            "[Parallel(n_jobs=-1)]: Done  14 tasks      | elapsed:    1.8s\n",
            "[Parallel(n_jobs=-1)]: Done  24 tasks      | elapsed:    3.8s\n",
            "[Parallel(n_jobs=-1)]: Done  38 tasks      | elapsed:    6.6s\n",
            "[Parallel(n_jobs=-1)]: Done  52 tasks      | elapsed:    8.3s\n",
            "[Parallel(n_jobs=-1)]: Done  70 tasks      | elapsed:   12.2s\n",
            "[Parallel(n_jobs=-1)]: Done  88 tasks      | elapsed:   15.0s\n",
            "[Parallel(n_jobs=-1)]: Done 110 tasks      | elapsed:   18.4s\n",
            "[Parallel(n_jobs=-1)]: Done 132 tasks      | elapsed:   22.4s\n",
            "[Parallel(n_jobs=-1)]: Done 158 tasks      | elapsed:   27.1s\n",
            "[Parallel(n_jobs=-1)]: Done 184 tasks      | elapsed:   31.4s\n",
            "[Parallel(n_jobs=-1)]: Done 214 tasks      | elapsed:   36.5s\n",
            "[Parallel(n_jobs=-1)]: Batch computation too slow (2.0708s.) Setting batch_size=1.\n",
            "[Parallel(n_jobs=-1)]: Done 239 tasks      | elapsed:   41.5s\n",
            "[Parallel(n_jobs=-1)]: Done 257 tasks      | elapsed:   44.9s\n",
            "[Parallel(n_jobs=-1)]: Done 274 tasks      | elapsed:   48.5s\n",
            "[Parallel(n_jobs=-1)]: Done 293 tasks      | elapsed:   51.2s\n"
          ],
          "name": "stderr"
        },
        {
          "output_type": "stream",
          "text": [
            "Best n_estimators: 10\n",
            "Best max_depth: None\n",
            "Best min_samples_split: 2\n"
          ],
          "name": "stdout"
        },
        {
          "output_type": "stream",
          "text": [
            "[Parallel(n_jobs=-1)]: Done 300 out of 300 | elapsed:   53.4s finished\n"
          ],
          "name": "stderr"
        }
      ]
    },
    {
      "cell_type": "code",
      "metadata": {
        "colab": {
          "base_uri": "https://localhost:8080/"
        },
        "id": "5Cr2AFG5fjFJ",
        "outputId": "725ced57-9450-45d7-d4dc-b28be6116d84"
      },
      "source": [
        "rfc = RandomForestClassifier(n_estimators=500, max_depth=20, min_samples_split=2)\r\n",
        "rfc.fit(X_train,y_train)\r\n",
        "y_pred = rfc.predict(X_test)\r\n",
        "rfc.score(X_test, y_test)"
      ],
      "execution_count": null,
      "outputs": [
        {
          "output_type": "execute_result",
          "data": {
            "text/plain": [
              "0.5135135135135135"
            ]
          },
          "metadata": {
            "tags": []
          },
          "execution_count": 81
        }
      ]
    },
    {
      "cell_type": "code",
      "metadata": {
        "colab": {
          "base_uri": "https://localhost:8080/"
        },
        "id": "GB-nPwnKfjIK",
        "outputId": "6eb885b4-7100-41fe-b1f2-cf8611e16abf"
      },
      "source": [
        "f1_score(y_test, y_pred, average='weighted')"
      ],
      "execution_count": null,
      "outputs": [
        {
          "output_type": "execute_result",
          "data": {
            "text/plain": [
              "0.34845559845559837"
            ]
          },
          "metadata": {
            "tags": []
          },
          "execution_count": 83
        }
      ]
    },
    {
      "cell_type": "markdown",
      "metadata": {
        "id": "pAapmU5VfpNm"
      },
      "source": [
        " AdaBoost"
      ]
    },
    {
      "cell_type": "code",
      "metadata": {
        "colab": {
          "base_uri": "https://localhost:8080/"
        },
        "id": "plcmKn5ZfjK6",
        "outputId": "5ce7ce24-fa3a-471f-c631-e2931e7b50d4"
      },
      "source": [
        "n_estimators = [10, 50, 100, 500]\r\n",
        "learning_rate = [0.1, 0.5, 1, 2, 5, 10]\r\n",
        "algorithm = ['SAMME', 'SAMME.R']\r\n",
        "hyperparameters = dict(n_estimators=n_estimators, learning_rate=learning_rate, algorithm=algorithm)\r\n",
        "abc = AdaBoostClassifier()\r\n",
        "clf = GridSearchCV(abc, hyperparameters, cv=2, n_jobs=-1, verbose=10)\r\n",
        "best_model = clf.fit(X_train,y_train)\r\n",
        "print('Best n_estimators:', best_model.best_estimator_.get_params()['n_estimators'])\r\n",
        "print('Best learning_rate:', best_model.best_estimator_.get_params()['learning_rate'])\r\n",
        "print('Best algorithm:', best_model.best_estimator_.get_params()['algorithm'])"
      ],
      "execution_count": null,
      "outputs": [
        {
          "output_type": "stream",
          "text": [
            "Fitting 2 folds for each of 48 candidates, totalling 96 fits\n"
          ],
          "name": "stdout"
        },
        {
          "output_type": "stream",
          "text": [
            "[Parallel(n_jobs=-1)]: Using backend LokyBackend with 2 concurrent workers.\n",
            "[Parallel(n_jobs=-1)]: Done   1 tasks      | elapsed:    0.1s\n",
            "[Parallel(n_jobs=-1)]: Batch computation too fast (0.0608s.) Setting batch_size=2.\n",
            "[Parallel(n_jobs=-1)]: Done   4 tasks      | elapsed:    0.3s\n",
            "[Parallel(n_jobs=-1)]: Done  14 tasks      | elapsed:    3.7s\n",
            "[Parallel(n_jobs=-1)]: Batch computation too slow (2.1919s.) Setting batch_size=1.\n",
            "[Parallel(n_jobs=-1)]: Done  24 tasks      | elapsed:    5.7s\n",
            "[Parallel(n_jobs=-1)]: Done  32 tasks      | elapsed:    8.1s\n",
            "[Parallel(n_jobs=-1)]: Done  40 tasks      | elapsed:    8.2s\n",
            "[Parallel(n_jobs=-1)]: Batch computation too fast (0.1930s.) Setting batch_size=2.\n",
            "[Parallel(n_jobs=-1)]: Batch computation too fast (0.0587s.) Setting batch_size=4.\n",
            "[Parallel(n_jobs=-1)]: Done  52 tasks      | elapsed:    8.8s\n",
            "[Parallel(n_jobs=-1)]: Batch computation too slow (2.3282s.) Setting batch_size=1.\n",
            "[Parallel(n_jobs=-1)]: Done  80 tasks      | elapsed:   17.4s\n",
            "[Parallel(n_jobs=-1)]: Done  91 tasks      | elapsed:   20.4s\n"
          ],
          "name": "stderr"
        },
        {
          "output_type": "stream",
          "text": [
            "Best n_estimators: 50\n",
            "Best learning_rate: 1\n",
            "Best algorithm: SAMME\n"
          ],
          "name": "stdout"
        },
        {
          "output_type": "stream",
          "text": [
            "[Parallel(n_jobs=-1)]: Done  96 out of  96 | elapsed:   22.3s finished\n"
          ],
          "name": "stderr"
        }
      ]
    },
    {
      "cell_type": "code",
      "metadata": {
        "colab": {
          "base_uri": "https://localhost:8080/"
        },
        "id": "NP4A0hMmfryH",
        "outputId": "b2b31159-5eb4-4c77-ad83-ac3b49236416"
      },
      "source": [
        "abc = AdaBoostClassifier(n_estimators=500, learning_rate=1, algorithm='SAMME.R')\r\n",
        "abc.fit(X_train,y_train)\r\n",
        "y_pred = abc.predict(X_test)\r\n",
        "abc.score(X_test, y_test)"
      ],
      "execution_count": null,
      "outputs": [
        {
          "output_type": "execute_result",
          "data": {
            "text/plain": [
              "0.5135135135135135"
            ]
          },
          "metadata": {
            "tags": []
          },
          "execution_count": 85
        }
      ]
    },
    {
      "cell_type": "code",
      "metadata": {
        "colab": {
          "base_uri": "https://localhost:8080/"
        },
        "id": "JCr3S5uCfr1Y",
        "outputId": "3cb7c005-c6d2-49cf-e55a-83cb24d3a41f"
      },
      "source": [
        "f1_score(y_test, y_pred, average='weighted')"
      ],
      "execution_count": null,
      "outputs": [
        {
          "output_type": "execute_result",
          "data": {
            "text/plain": [
              "0.5062741312741313"
            ]
          },
          "metadata": {
            "tags": []
          },
          "execution_count": 86
        }
      ]
    },
    {
      "cell_type": "markdown",
      "metadata": {
        "id": "LwTapShQfwbm"
      },
      "source": [
        "Gradient Boost"
      ]
    },
    {
      "cell_type": "code",
      "metadata": {
        "colab": {
          "base_uri": "https://localhost:8080/"
        },
        "id": "J67rSE-9fr4R",
        "outputId": "29af761e-112b-4238-cdeb-11ce1d57b2e3"
      },
      "source": [
        "learning_rate = [0.01, 0.1, 0.5]\r\n",
        "n_estimators = [100, 250, 500]\r\n",
        "max_depth = [3, 5, 7]\r\n",
        "hyperparameters = dict(learning_rate=learning_rate, n_estimators=n_estimators, max_depth=max_depth)\r\n",
        "gbc = GradientBoostingClassifier()\r\n",
        "clf = GridSearchCV(gbc, hyperparameters, cv=2, n_jobs=-1, verbose=10)\r\n",
        "best_model = clf.fit(X_train,y_train)\r\n",
        "print('Best learning_rate:', best_model.best_estimator_.get_params()['learning_rate'])\r\n",
        "print('Best n_estimators:', best_model.best_estimator_.get_params()['n_estimators'])\r\n",
        "print('Best max_depth:', best_model.best_estimator_.get_params()['max_depth'])"
      ],
      "execution_count": null,
      "outputs": [
        {
          "output_type": "stream",
          "text": [
            "Fitting 2 folds for each of 27 candidates, totalling 54 fits\n"
          ],
          "name": "stdout"
        },
        {
          "output_type": "stream",
          "text": [
            "[Parallel(n_jobs=-1)]: Using backend LokyBackend with 2 concurrent workers.\n",
            "[Parallel(n_jobs=-1)]: Done   1 tasks      | elapsed:    0.6s\n",
            "[Parallel(n_jobs=-1)]: Done   4 tasks      | elapsed:    2.1s\n",
            "[Parallel(n_jobs=-1)]: Done   9 tasks      | elapsed:    7.7s\n",
            "[Parallel(n_jobs=-1)]: Done  14 tasks      | elapsed:   12.5s\n",
            "[Parallel(n_jobs=-1)]: Done  21 tasks      | elapsed:   20.9s\n",
            "[Parallel(n_jobs=-1)]: Done  28 tasks      | elapsed:   26.0s\n",
            "[Parallel(n_jobs=-1)]: Done  37 tasks      | elapsed:   33.1s\n",
            "[Parallel(n_jobs=-1)]: Done  46 tasks      | elapsed:   36.8s\n",
            "[Parallel(n_jobs=-1)]: Done  54 out of  54 | elapsed:   40.3s finished\n"
          ],
          "name": "stderr"
        },
        {
          "output_type": "stream",
          "text": [
            "Best learning_rate: 0.5\n",
            "Best n_estimators: 100\n",
            "Best max_depth: 7\n"
          ],
          "name": "stdout"
        }
      ]
    },
    {
      "cell_type": "code",
      "metadata": {
        "colab": {
          "base_uri": "https://localhost:8080/"
        },
        "id": "vOuu5XICf7lo",
        "outputId": "f513e774-fb81-490b-ee5e-6f34a99b8bd3"
      },
      "source": [
        "gbc = GradientBoostingClassifier(n_estimators=500, learning_rate=0.1, max_depth=3)\r\n",
        "gbc.fit(X_train,y_train)\r\n",
        "y_pred = gbc.predict(X_test)\r\n",
        "gbc.score(X_test, y_test)"
      ],
      "execution_count": null,
      "outputs": [
        {
          "output_type": "execute_result",
          "data": {
            "text/plain": [
              "0.5945945945945946"
            ]
          },
          "metadata": {
            "tags": []
          },
          "execution_count": 88
        }
      ]
    },
    {
      "cell_type": "code",
      "metadata": {
        "colab": {
          "base_uri": "https://localhost:8080/"
        },
        "id": "kPrAj01cf7vU",
        "outputId": "703f7ff1-c4f7-4179-b311-4e005d7ddf36"
      },
      "source": [
        "f1_score(y_test, y_pred, average='weighted')"
      ],
      "execution_count": null,
      "outputs": [
        {
          "output_type": "execute_result",
          "data": {
            "text/plain": [
              "0.531692818137831"
            ]
          },
          "metadata": {
            "tags": []
          },
          "execution_count": 89
        }
      ]
    },
    {
      "cell_type": "markdown",
      "metadata": {
        "id": "Kmz4VDLwgCjH"
      },
      "source": [
        "Best model by f1-score - GradientBoostingClassifier¶"
      ]
    },
    {
      "cell_type": "code",
      "metadata": {
        "colab": {
          "base_uri": "https://localhost:8080/"
        },
        "id": "6Lnd6iPwgDMF",
        "outputId": "1d0780ec-0da3-40f9-8456-b2765d62b590"
      },
      "source": [
        "print(classification_report(y_test, y_pred))"
      ],
      "execution_count": null,
      "outputs": [
        {
          "output_type": "stream",
          "text": [
            "              precision    recall  f1-score   support\n",
            "\n",
            "           0       0.80      0.22      0.35        18\n",
            "           2       0.56      0.95      0.71        19\n",
            "\n",
            "    accuracy                           0.59        37\n",
            "   macro avg       0.68      0.58      0.53        37\n",
            "weighted avg       0.68      0.59      0.53        37\n",
            "\n"
          ],
          "name": "stdout"
        }
      ]
    },
    {
      "cell_type": "code",
      "metadata": {
        "colab": {
          "base_uri": "https://localhost:8080/"
        },
        "id": "riKCmWTCgDQX",
        "outputId": "30b7de80-ae87-40bc-eaa1-5b15c2f3a0c7"
      },
      "source": [
        "print(confusion_matrix(y_test, y_pred))"
      ],
      "execution_count": null,
      "outputs": [
        {
          "output_type": "stream",
          "text": [
            "[[ 4 14]\n",
            " [ 1 18]]\n"
          ],
          "name": "stdout"
        }
      ]
    },
    {
      "cell_type": "markdown",
      "metadata": {
        "id": "BxNloksxeNwW"
      },
      "source": [
        ""
      ]
    }
  ]
}